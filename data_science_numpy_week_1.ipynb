{
  "nbformat": 4,
  "nbformat_minor": 0,
  "metadata": {
    "colab": {
      "provenance": [],
      "authorship_tag": "ABX9TyNotZYsKX61dxUVObLyPEge",
      "include_colab_link": true
    },
    "kernelspec": {
      "name": "python3",
      "display_name": "Python 3"
    },
    "language_info": {
      "name": "python"
    }
  },
  "cells": [
    {
      "cell_type": "markdown",
      "metadata": {
        "id": "view-in-github",
        "colab_type": "text"
      },
      "source": [
        "<a href=\"https://colab.research.google.com/github/ashwin-77/numpy/blob/main/data_science_numpy_week_1.ipynb\" target=\"_parent\"><img src=\"https://colab.research.google.com/assets/colab-badge.svg\" alt=\"Open In Colab\"/></a>"
      ]
    },
    {
      "cell_type": "code",
      "execution_count": null,
      "metadata": {
        "colab": {
          "base_uri": "https://localhost:8080/"
        },
        "id": "OFW4koBQExVP",
        "outputId": "25917027-8e5b-4499-891b-94f5f2c2372d"
      },
      "outputs": [
        {
          "output_type": "stream",
          "name": "stdout",
          "text": [
            "['1' '2' '3' '4' 'a']\n"
          ]
        }
      ],
      "source": [
        "#NUMPY\n",
        "\n",
        "import numpy as np   #it is known as numerical python\n",
        "\n",
        "#1.ARRAY:= collection of data with same datatype(homogenous)\n",
        "\n",
        "#a=np.array([1,2,3.0,4])       #in thi if we give float to one no. the all the o/p will become float\n",
        "a=np.array([1,2,3,4,\"a\"])     #in this if we use a string eg. \"A\" then all the o/p will become string\n",
        "print(a)"
      ]
    },
    {
      "cell_type": "code",
      "source": [
        "#slicing.. forward slicing , bacward slicing\n",
        "\n",
        "\n",
        "b=np.array([1,2,3,4,5])\n",
        "#1,2\n",
        "print(b[0:2])\n",
        "\n",
        "#5,4\n",
        "\n",
        "print(b[-1:-3:-1])\n",
        "#4,5\n",
        "print(b[3:])\n",
        "\n",
        "#2,1\n",
        "print(b[-4::-1])\n"
      ],
      "metadata": {
        "colab": {
          "base_uri": "https://localhost:8080/"
        },
        "id": "EweAjYhXHWk9",
        "outputId": "bd915369-c2c1-4abd-9f05-cd15cc1dd2d7"
      },
      "execution_count": null,
      "outputs": [
        {
          "output_type": "stream",
          "name": "stdout",
          "text": [
            "[1 2]\n",
            "[5 4]\n",
            "[4 5]\n",
            "[2 1]\n"
          ]
        }
      ]
    },
    {
      "cell_type": "code",
      "source": [
        "#dimension   := for this we use function \"ndim\"\n",
        "\n",
        "a=np.array([1,2,3,4])\n",
        "#print(a.ndim)      #dimension vector =1\n",
        "b=np.array(([5,6],[7,8]))\n",
        "print(b.ndim)        #dimenson vector =2\n",
        "\n",
        "b.shape              #\"shape is used to known how  much rows and  col present ie.to know the shape\""
      ],
      "metadata": {
        "colab": {
          "base_uri": "https://localhost:8080/"
        },
        "id": "OxCU8MjdJGBG",
        "outputId": "d4c89bc8-ac20-4ebf-de74-5537981c1819"
      },
      "execution_count": null,
      "outputs": [
        {
          "output_type": "stream",
          "name": "stdout",
          "text": [
            "2\n"
          ]
        },
        {
          "output_type": "execute_result",
          "data": {
            "text/plain": [
              "(2, 2)"
            ]
          },
          "metadata": {},
          "execution_count": 36
        }
      ]
    },
    {
      "cell_type": "code",
      "source": [
        "#create a 2X2 matrix  2,3,4,5\n",
        "\n",
        "a=np.array(([2,3],[4,5]))\n",
        "print(a.ndim)\n",
        "print(a)\n",
        "print(a.shape)\n",
        "\n",
        "print(a.size)     #\"size is used to get the total  no. of elements\"\n"
      ],
      "metadata": {
        "colab": {
          "base_uri": "https://localhost:8080/"
        },
        "id": "NynhhImAKMVh",
        "outputId": "a40c26b3-df82-45ae-a50f-b4219d5d58c8"
      },
      "execution_count": null,
      "outputs": [
        {
          "output_type": "stream",
          "name": "stdout",
          "text": [
            "2\n",
            "[[2 3]\n",
            " [4 5]]\n",
            "(2, 2)\n",
            "4\n"
          ]
        }
      ]
    },
    {
      "cell_type": "code",
      "source": [
        "#create 2X3 matrix and print , size ,shape, dimension\n",
        "\n",
        "p=np.array(([1,2,3],[4,5,6]))\n",
        "print(p)\n",
        "print(p.size)\n",
        "print(p.shape)\n",
        "print(p.ndim)"
      ],
      "metadata": {
        "colab": {
          "base_uri": "https://localhost:8080/"
        },
        "id": "_x0vibNrLcRo",
        "outputId": "82f1e65f-a9af-4912-c3cf-500a7115e335"
      },
      "execution_count": null,
      "outputs": [
        {
          "output_type": "stream",
          "name": "stdout",
          "text": [
            "[[1 2 3]\n",
            " [4 5 6]]\n",
            "6\n",
            "(2, 3)\n",
            "2\n"
          ]
        }
      ]
    },
    {
      "cell_type": "code",
      "source": [
        "#create a 4X2 matrix display its size ,shape , dimension\n",
        "\n",
        "c=np.array(([1,2],[3,4],[5,6],[7,8]))\n",
        "print(c)\n",
        "print(c.size)\n",
        "print(c.shape)\n",
        "print(c.ndim)"
      ],
      "metadata": {
        "colab": {
          "base_uri": "https://localhost:8080/"
        },
        "id": "qRZB_mNEMXKE",
        "outputId": "228be51a-c417-4869-ec27-5620c0d276e9"
      },
      "execution_count": null,
      "outputs": [
        {
          "output_type": "stream",
          "name": "stdout",
          "text": [
            "[[1 2]\n",
            " [3 4]\n",
            " [5 6]\n",
            " [7 8]]\n",
            "8\n",
            "(4, 2)\n",
            "2\n"
          ]
        }
      ]
    },
    {
      "cell_type": "code",
      "source": [
        "#create a 4X4 matrix\n",
        "v=np.array(([1,2,3,4],[5,6,7,8],[2,4,6,8],[1,3,5,7]))\n",
        "print(v)\n",
        "print(v.ndim)\n",
        "print(v.shape)"
      ],
      "metadata": {
        "colab": {
          "base_uri": "https://localhost:8080/"
        },
        "id": "gNh6Um7MNY-C",
        "outputId": "ecf7c2b2-6a3f-46a0-c82e-10477620848e"
      },
      "execution_count": null,
      "outputs": [
        {
          "output_type": "stream",
          "name": "stdout",
          "text": [
            "[[1 2 3 4]\n",
            " [5 6 7 8]\n",
            " [2 4 6 8]\n",
            " [1 3 5 7]]\n",
            "2\n",
            "(4, 4)\n"
          ]
        }
      ]
    },
    {
      "cell_type": "markdown",
      "source": [
        "**19-09-25**"
      ],
      "metadata": {
        "id": "m8tO4lWDEtwm"
      }
    },
    {
      "cell_type": "code",
      "source": [
        "import numpy as np\n",
        "#create a 4X4 matrix\n",
        "v=np.array(([1,2,3,4],[5,6,7,8],[2,4,6,8],[1,3,5,7]))\n",
        "#print(v.ndim)\n",
        "#print(v)\n",
        "#print(v.ndim)\n",
        "#print(v.shape)\n",
        "\n",
        "print(v[0])       #to get first row\n",
        "print(v[:,0])     #to get the first column\n",
        "print(v[1,1])     #to get the element \"6\", here first mention its row no., then the col no.\n",
        "print(v[2,3])     #to get 8\n",
        "print(v[3,2:])    #to get the value [5,7]\n",
        "print(v[2:,2:])    #to get 3rd row's [6,8] and from 4th row's [5,7] like [6,8]\n",
        "                                                                        #[5,7]\n",
        "print(v[2:,1:3])\n",
        "print(v[1:3,3])    #to get  [8,8] ie 2nd row lst and 3rd row lst\n",
        "print(v[1:3,0:3])    #to get 2nd row [5,6,7] and 3rd row [2,4,6]\n",
        "print(v[0:3,1:])      #to get 1st row [2,3,4] 2nd [6,7,8] 3rd[4,6,8]\n",
        "print(v[0:,0:])       #to get the all matrix"
      ],
      "metadata": {
        "colab": {
          "base_uri": "https://localhost:8080/"
        },
        "id": "Q2lJ1x3HEzt5",
        "outputId": "1d7f94ef-e79c-4ed8-c348-2f94e12b67e6"
      },
      "execution_count": null,
      "outputs": [
        {
          "output_type": "stream",
          "name": "stdout",
          "text": [
            "[1 2 3 4]\n",
            "[1 5 2 1]\n",
            "6\n",
            "8\n",
            "[5 7]\n",
            "[[6 8]\n",
            " [5 7]]\n",
            "[[4 6]\n",
            " [3 5]]\n",
            "[8 8]\n",
            "[[5 6 7]\n",
            " [2 4 6]]\n",
            "[[2 3 4]\n",
            " [6 7 8]\n",
            " [4 6 8]]\n",
            "[[1 2 3 4]\n",
            " [5 6 7 8]\n",
            " [2 4 6 8]\n",
            " [1 3 5 7]]\n"
          ]
        }
      ]
    },
    {
      "cell_type": "code",
      "source": [
        "#zero matrix\n",
        "z=np.zeros([3,3,3],dtype=int)      #here if we give dtype=int  then it change the matrix to int and dtype= complex it chage\n",
        "print(z)"
      ],
      "metadata": {
        "colab": {
          "base_uri": "https://localhost:8080/"
        },
        "id": "pCkv7_mnJ4-T",
        "outputId": "f46f5de3-e9d1-4562-98a5-6bd8c058f73d"
      },
      "execution_count": null,
      "outputs": [
        {
          "output_type": "stream",
          "name": "stdout",
          "text": [
            "[[[0 0 0]\n",
            "  [0 0 0]\n",
            "  [0 0 0]]\n",
            "\n",
            " [[0 0 0]\n",
            "  [0 0 0]\n",
            "  [0 0 0]]\n",
            "\n",
            " [[0 0 0]\n",
            "  [0 0 0]\n",
            "  [0 0 0]]]\n"
          ]
        }
      ]
    },
    {
      "cell_type": "code",
      "source": [
        "#ONE Matrix\n",
        "\n",
        "a=np.ones([3,3],dtype=int)\n",
        "print(a)"
      ],
      "metadata": {
        "colab": {
          "base_uri": "https://localhost:8080/"
        },
        "id": "DccxTmVhKkN6",
        "outputId": "ed0e66fb-1e5d-424f-e54f-dc27a569bf75"
      },
      "execution_count": null,
      "outputs": [
        {
          "output_type": "stream",
          "name": "stdout",
          "text": [
            "[[1 1 1]\n",
            " [1 1 1]\n",
            " [1 1 1]]\n"
          ]
        }
      ]
    },
    {
      "cell_type": "code",
      "source": [
        "#create two 2X2 matrix\n",
        "\n",
        "a=np.array([[1,2],[3,4]])\n",
        "b=np.array([[3,1],[6,7]])\n",
        "print(a)\n",
        "print(b)"
      ],
      "metadata": {
        "colab": {
          "base_uri": "https://localhost:8080/"
        },
        "id": "6Z5YUbTkK1Qe",
        "outputId": "106a1b54-651f-4235-ec44-2c1533129158"
      },
      "execution_count": null,
      "outputs": [
        {
          "output_type": "stream",
          "name": "stdout",
          "text": [
            "[[1 2]\n",
            " [3 4]]\n",
            "[[3 1]\n",
            " [6 7]]\n"
          ]
        }
      ]
    },
    {
      "cell_type": "code",
      "source": [
        "#matrix addition\n",
        "a=np.array([[1,2],[3,4]])\n",
        "b=np.array([[3,1],[6,7]])\n",
        "print(a+b)"
      ],
      "metadata": {
        "colab": {
          "base_uri": "https://localhost:8080/"
        },
        "id": "_5sqNnONLXgv",
        "outputId": "b21af688-ac73-4121-aff4-e6b07e3d8fe5"
      },
      "execution_count": null,
      "outputs": [
        {
          "output_type": "stream",
          "name": "stdout",
          "text": [
            "[[ 4  3]\n",
            " [ 9 11]]\n"
          ]
        }
      ]
    },
    {
      "cell_type": "code",
      "source": [
        "#matrix substraction\n",
        "\n",
        "a=np.array([[1,2],[3,4]])\n",
        "b=np.array([[3,1],[6,7]])\n",
        "print(a-b)"
      ],
      "metadata": {
        "colab": {
          "base_uri": "https://localhost:8080/"
        },
        "id": "N7kvhr2yLnfj",
        "outputId": "8881eaa9-6fab-419d-925a-ee7d14caa145"
      },
      "execution_count": null,
      "outputs": [
        {
          "output_type": "stream",
          "name": "stdout",
          "text": [
            "[[-2  1]\n",
            " [-3 -3]]\n"
          ]
        }
      ]
    },
    {
      "cell_type": "code",
      "source": [
        "#matrix multiplication\n",
        "\n",
        "print(a*b)     #it is not a matrix  mulitiplication\n",
        "print(a@b)      #for matrix multiplication we use \"@\" then only we get the correct\n",
        "print(a.dot(b))   #another matrix multiplication  method"
      ],
      "metadata": {
        "colab": {
          "base_uri": "https://localhost:8080/"
        },
        "id": "MSihGUlkL2h2",
        "outputId": "b0edf915-4fa3-42ae-d557-cf0d95f08d4c"
      },
      "execution_count": null,
      "outputs": [
        {
          "output_type": "stream",
          "name": "stdout",
          "text": [
            "[[ 3  2]\n",
            " [18 28]]\n",
            "[[15 15]\n",
            " [33 31]]\n",
            "[[15 15]\n",
            " [33 31]]\n"
          ]
        }
      ]
    },
    {
      "cell_type": "code",
      "source": [
        "#matrix division\n",
        "\n",
        "print(a/b)"
      ],
      "metadata": {
        "colab": {
          "base_uri": "https://localhost:8080/"
        },
        "id": "SrURqArhNPeA",
        "outputId": "0b29c5d7-e44d-41b4-b13e-411bee1af3e7"
      },
      "execution_count": null,
      "outputs": [
        {
          "output_type": "stream",
          "name": "stdout",
          "text": [
            "[[0.33333333 2.        ]\n",
            " [0.5        0.57142857]]\n"
          ]
        }
      ]
    },
    {
      "cell_type": "code",
      "source": [
        "#full matrix    #it is all the elements are same\n",
        "\n",
        "p=np.full([3,3],5,dtype=int)     #here [3,3] how much we need and 5 is what value is to be given\n",
        "print(p)"
      ],
      "metadata": {
        "colab": {
          "base_uri": "https://localhost:8080/"
        },
        "id": "pQfsgqFjN1H5",
        "outputId": "1268915f-630c-4f50-9009-a05d47d7ab06"
      },
      "execution_count": null,
      "outputs": [
        {
          "output_type": "stream",
          "name": "stdout",
          "text": [
            "[[5 5 5]\n",
            " [5 5 5]\n",
            " [5 5 5]]\n"
          ]
        }
      ]
    },
    {
      "cell_type": "code",
      "source": [
        "#create a 3X4 matrix with value 9 and datatype complex\n",
        "\n",
        "s=np.full([3,4],9,dtype=complex)\n",
        "print(s)"
      ],
      "metadata": {
        "colab": {
          "base_uri": "https://localhost:8080/"
        },
        "id": "oyGTzF1rOqfC",
        "outputId": "9ca0fa55-08df-4134-dfc8-8cf0e660322b"
      },
      "execution_count": null,
      "outputs": [
        {
          "output_type": "stream",
          "name": "stdout",
          "text": [
            "[[9.+0.j 9.+0.j 9.+0.j 9.+0.j]\n",
            " [9.+0.j 9.+0.j 9.+0.j 9.+0.j]\n",
            " [9.+0.j 9.+0.j 9.+0.j 9.+0.j]]\n"
          ]
        }
      ]
    },
    {
      "cell_type": "code",
      "source": [
        "#identity matrix    # is called when diagonal =1 and it should be square matrix\n",
        "\n",
        "c=np.identity(3,dtype=int)\n",
        "print(c)\n",
        "c=np.eye(3,dtype=int)    #another method for identity matrix\n",
        "print(c)"
      ],
      "metadata": {
        "colab": {
          "base_uri": "https://localhost:8080/"
        },
        "id": "WlY1AMw-O_Dc",
        "outputId": "ccb27faa-ff2f-4cdf-be0f-862808cf5792"
      },
      "execution_count": null,
      "outputs": [
        {
          "output_type": "stream",
          "name": "stdout",
          "text": [
            "[[1 0 0]\n",
            " [0 1 0]\n",
            " [0 0 1]]\n",
            "[[1 0 0]\n",
            " [0 1 0]\n",
            " [0 0 1]]\n"
          ]
        }
      ]
    },
    {
      "cell_type": "code",
      "source": [
        "#create a 4X4 matrix\n",
        "y=np.array([[1,2,3,4],[5,6,7,8],[9,10,11,12],[13,14,15,16]])\n",
        "print(y)\n"
      ],
      "metadata": {
        "colab": {
          "base_uri": "https://localhost:8080/"
        },
        "id": "qyR0pD6OQ66p",
        "outputId": "9994adf9-c6cc-40d6-a632-ea173d84d46d"
      },
      "execution_count": null,
      "outputs": [
        {
          "output_type": "stream",
          "name": "stdout",
          "text": [
            "[[ 1  2  3  4]\n",
            " [ 5  6  7  8]\n",
            " [ 9 10 11 12]\n",
            " [13 14 15 16]]\n"
          ]
        }
      ]
    },
    {
      "cell_type": "code",
      "source": [
        "a=y.reshape(8,2)     #to reshape the matrix but condition is it accept all element ,here it have 16 elements so it can have [4,4],[16,1],[8,2]\n",
        "print(a)"
      ],
      "metadata": {
        "colab": {
          "base_uri": "https://localhost:8080/"
        },
        "id": "_syfp71RRkSd",
        "outputId": "d208fa14-8a46-4ea2-f9cc-753ad9fa58ea"
      },
      "execution_count": null,
      "outputs": [
        {
          "output_type": "stream",
          "name": "stdout",
          "text": [
            "[[ 1  2]\n",
            " [ 3  4]\n",
            " [ 5  6]\n",
            " [ 7  8]\n",
            " [ 9 10]\n",
            " [11 12]\n",
            " [13 14]\n",
            " [15 16]]\n"
          ]
        }
      ]
    },
    {
      "cell_type": "code",
      "source": [
        "#ARANGE\n",
        "\n",
        "\n",
        "a=np.arange(1,10,2)    #to get range element\n",
        "print(a)"
      ],
      "metadata": {
        "colab": {
          "base_uri": "https://localhost:8080/"
        },
        "id": "-_fg0bJvSDOP",
        "outputId": "d4a486aa-0830-46c6-f9b1-423207d1720a"
      },
      "execution_count": null,
      "outputs": [
        {
          "output_type": "stream",
          "name": "stdout",
          "text": [
            "[1 3 5 7 9]\n"
          ]
        }
      ]
    },
    {
      "cell_type": "code",
      "source": [
        "#create a 5X2 matrix using arange\n",
        "\n",
        "z=np.arange(1,11).reshape(5,2)\n",
        "print(z)"
      ],
      "metadata": {
        "colab": {
          "base_uri": "https://localhost:8080/"
        },
        "id": "o8L2PnVySiiE",
        "outputId": "79d12892-a62d-4ee5-d51d-d6febb82af13"
      },
      "execution_count": null,
      "outputs": [
        {
          "output_type": "stream",
          "name": "stdout",
          "text": [
            "[[ 1  2]\n",
            " [ 3  4]\n",
            " [ 5  6]\n",
            " [ 7  8]\n",
            " [ 9 10]]\n"
          ]
        }
      ]
    },
    {
      "cell_type": "code",
      "source": [
        "#create a 3X3 matrix with float values\n",
        "c=np.array([[2.5,3.6,4.7],[1.2,3.5,6.8],[7.1,4.5,8.9]])\n",
        "print(c)"
      ],
      "metadata": {
        "colab": {
          "base_uri": "https://localhost:8080/"
        },
        "id": "Wj-cKt8QTHl4",
        "outputId": "e87ef43c-f556-449d-ac6c-85d1dda10a48"
      },
      "execution_count": null,
      "outputs": [
        {
          "output_type": "stream",
          "name": "stdout",
          "text": [
            "[[2.5 3.6 4.7]\n",
            " [1.2 3.5 6.8]\n",
            " [7.1 4.5 8.9]]\n"
          ]
        }
      ]
    },
    {
      "cell_type": "code",
      "source": [
        "#FLOOR       2.5=2, 3.6=3\n",
        "w=np.floor(c)\n",
        "print(w)"
      ],
      "metadata": {
        "colab": {
          "base_uri": "https://localhost:8080/"
        },
        "id": "aY76-8ACUlmq",
        "outputId": "2f207dac-2a0a-4c60-987c-f212a027ea36"
      },
      "execution_count": null,
      "outputs": [
        {
          "output_type": "stream",
          "name": "stdout",
          "text": [
            "[[2. 3. 4.]\n",
            " [1. 3. 6.]\n",
            " [7. 4. 8.]]\n"
          ]
        }
      ]
    },
    {
      "cell_type": "code",
      "source": [
        "#celi     here 2.5=3, 3.8=4\n",
        "d=np.ceil(c)\n",
        "print(d)"
      ],
      "metadata": {
        "colab": {
          "base_uri": "https://localhost:8080/"
        },
        "id": "sEV-5sDCU9Sl",
        "outputId": "e45e2db9-b80b-4757-c0b6-6ee2c8615250"
      },
      "execution_count": null,
      "outputs": [
        {
          "output_type": "stream",
          "name": "stdout",
          "text": [
            "[[3. 4. 5.]\n",
            " [2. 4. 7.]\n",
            " [8. 5. 9.]]\n"
          ]
        }
      ]
    },
    {
      "cell_type": "code",
      "source": [
        "#ROUND              #in this case .5 move towards even no. if it is 3.5 then it is 4\n",
        "\n",
        "r=np.round(c)\n",
        "print(r)"
      ],
      "metadata": {
        "colab": {
          "base_uri": "https://localhost:8080/"
        },
        "id": "WEl7UdufVZ18",
        "outputId": "08357f0a-a425-4e95-d24e-858a06e04ce5"
      },
      "execution_count": null,
      "outputs": [
        {
          "output_type": "stream",
          "name": "stdout",
          "text": [
            "[[2. 4. 5.]\n",
            " [1. 4. 7.]\n",
            " [7. 4. 9.]]\n"
          ]
        }
      ]
    },
    {
      "cell_type": "code",
      "source": [
        "#create 3X3 matrix\n",
        "\n",
        "a=np.arange(1,10).reshape(3,3)\n",
        "print(a)\n",
        "\n",
        "#MAX\n",
        "\n",
        "print(a.max())    #to find the max element\n",
        "\n",
        "print(a.max(axis=1)) #in numpy axis=1 is row and axis =0 is column \"axis\" is used to find the large element in each row or col\n",
        "print(a.max(axis=0))\n",
        "\n",
        "#MIN\n",
        "\n",
        "print(a.min())  #to find the min value\n",
        "print(a.min(axis=1))   #min value in each row\n",
        "print(a.min(axis=0))  #min value in each column"
      ],
      "metadata": {
        "colab": {
          "base_uri": "https://localhost:8080/"
        },
        "id": "7ZUa-sxgW-x3",
        "outputId": "bc0490d4-a194-476b-d574-3c5148f4b343"
      },
      "execution_count": null,
      "outputs": [
        {
          "output_type": "stream",
          "name": "stdout",
          "text": [
            "[[1 2 3]\n",
            " [4 5 6]\n",
            " [7 8 9]]\n",
            "9\n",
            "[3 6 9]\n",
            "[7 8 9]\n",
            "1\n",
            "[1 4 7]\n",
            "[1 2 3]\n"
          ]
        }
      ]
    },
    {
      "cell_type": "markdown",
      "source": [
        "**22-09-25**"
      ],
      "metadata": {
        "id": "yMyvUvvDiYlb"
      }
    },
    {
      "cell_type": "code",
      "source": [
        "#SUM\n",
        "import numpy as np\n",
        "p=np.array(([1,2,3],[4,5,6],[7,8,9]))\n",
        "#print(p)\n",
        "#print(p.sum())\n",
        "#print(p.sum(axis=1))     #to find sum of each row\n",
        "#print(p.sum(axis=0))     #to find sum of each column\n",
        "\n",
        "#print(np.sqrt(p))            #to get squareroot\n",
        "#print(np.sin(p))            #to get the sin\n",
        "#print(np.cos(p))\n",
        "print(np.tan(p))\n"
      ],
      "metadata": {
        "id": "6UvedIb3XRQM",
        "colab": {
          "base_uri": "https://localhost:8080/"
        },
        "outputId": "e5694c39-a723-4e6e-ee69-cd31256438fa"
      },
      "execution_count": 8,
      "outputs": [
        {
          "output_type": "stream",
          "name": "stdout",
          "text": [
            "[[1.         1.41421356 1.73205081]\n",
            " [2.         2.23606798 2.44948974]\n",
            " [2.64575131 2.82842712 3.        ]]\n"
          ]
        }
      ]
    },
    {
      "cell_type": "code",
      "source": [
        "#FLATTEN\n",
        "\n",
        "import numpy as np\n",
        "p=np.array(([1,2,3],[4,5,6],[7,8,9]))\n",
        "\n",
        "print(p.flatten())       #to convert it into one dimensionsal array \"vector\""
      ],
      "metadata": {
        "colab": {
          "base_uri": "https://localhost:8080/"
        },
        "id": "9b2Qmz5Kk6u6",
        "outputId": "8570b620-5d3e-4d21-a45f-df3f1dd50a40"
      },
      "execution_count": 10,
      "outputs": [
        {
          "output_type": "stream",
          "name": "stdout",
          "text": [
            "[1 2 3 4 5 6 7 8 9]\n"
          ]
        }
      ]
    },
    {
      "cell_type": "code",
      "source": [
        "#SORT\n",
        "\n",
        "#create  3X3 matrix\n",
        "\n",
        "import numpy as np\n",
        "s=np.array(([3,4,1],[5,3,1],[6,9,8]))\n",
        "#print(s)\n",
        "#b=np.sort(s,axis=0)        #METHOD USED FOR SORTING in the column\n",
        "#b=np.sort(s,axis=1)         #used to sort the row\n",
        "p#rint(b)\n",
        "\n",
        "#ARG SORTING\n",
        "\n",
        "c=np.argsort(s,axis=1)       #sorting on the basis of indexing no. in the o/p we get the matrix with index no.\n",
        "print(c)"
      ],
      "metadata": {
        "colab": {
          "base_uri": "https://localhost:8080/"
        },
        "id": "gb5eIN4BlewS",
        "outputId": "cb697cb6-d02d-4ff9-e48d-6fd69a5f11e1"
      },
      "execution_count": 19,
      "outputs": [
        {
          "output_type": "stream",
          "name": "stdout",
          "text": [
            "[[2 0 1]\n",
            " [2 1 0]\n",
            " [0 2 1]]\n"
          ]
        }
      ]
    },
    {
      "cell_type": "code",
      "source": [],
      "metadata": {
        "id": "A6SHo71rmrpB"
      },
      "execution_count": null,
      "outputs": []
    }
  ]
}